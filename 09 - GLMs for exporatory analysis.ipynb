{
 "cells": [
  {
   "cell_type": "markdown",
   "metadata": {},
   "source": [
    "# Exploratory Analysis with GLMs in H2O\n",
    "## Jose M Albornoz\n",
    "### December 2018"
   ]
  },
  {
   "cell_type": "markdown",
   "metadata": {},
   "source": [
    "This notebook demonstrates how a GLM model built with H2O can be used for exploratory anaysis"
   ]
  },
  {
   "cell_type": "code",
   "execution_count": 1,
   "metadata": {},
   "outputs": [],
   "source": [
    "import h2o\n",
    "import pandas as pd"
   ]
  },
  {
   "cell_type": "code",
   "execution_count": 2,
   "metadata": {},
   "outputs": [
    {
     "name": "stdout",
     "output_type": "stream",
     "text": [
      "Checking whether there is an H2O instance running at http://localhost:54321..... not found.\n",
      "Attempting to start a local H2O server...\n",
      "; Java HotSpot(TM) 64-Bit Server VM (build 25.191-b12, mixed mode)\n",
      "  Starting server from c:\\users\\albornoj\\appdata\\local\\programs\\python\\python37\\lib\\site-packages\\h2o\\backend\\bin\\h2o.jar\n",
      "  Ice root: C:\\Users\\AlbornoJ\\AppData\\Local\\Temp\\tmpko8u9zri\n",
      "  JVM stdout: C:\\Users\\AlbornoJ\\AppData\\Local\\Temp\\tmpko8u9zri\\h2o_AlbornoJ_started_from_python.out\n",
      "  JVM stderr: C:\\Users\\AlbornoJ\\AppData\\Local\\Temp\\tmpko8u9zri\\h2o_AlbornoJ_started_from_python.err\n",
      "  Server is running at http://127.0.0.1:54321\n",
      "Connecting to H2O server at http://127.0.0.1:54321... successful.\n"
     ]
    },
    {
     "data": {
      "text/html": [
       "<div style=\"overflow:auto\"><table style=\"width:50%\"><tr><td>H2O cluster uptime:</td>\n",
       "<td>05 secs</td></tr>\n",
       "<tr><td>H2O cluster timezone:</td>\n",
       "<td>Europe/London</td></tr>\n",
       "<tr><td>H2O data parsing timezone:</td>\n",
       "<td>UTC</td></tr>\n",
       "<tr><td>H2O cluster version:</td>\n",
       "<td>3.22.0.2</td></tr>\n",
       "<tr><td>H2O cluster version age:</td>\n",
       "<td>20 days </td></tr>\n",
       "<tr><td>H2O cluster name:</td>\n",
       "<td>H2O_from_python_AlbornoJ_sp300x</td></tr>\n",
       "<tr><td>H2O cluster total nodes:</td>\n",
       "<td>1</td></tr>\n",
       "<tr><td>H2O cluster free memory:</td>\n",
       "<td>3.531 Gb</td></tr>\n",
       "<tr><td>H2O cluster total cores:</td>\n",
       "<td>4</td></tr>\n",
       "<tr><td>H2O cluster allowed cores:</td>\n",
       "<td>4</td></tr>\n",
       "<tr><td>H2O cluster status:</td>\n",
       "<td>accepting new members, healthy</td></tr>\n",
       "<tr><td>H2O connection url:</td>\n",
       "<td>http://127.0.0.1:54321</td></tr>\n",
       "<tr><td>H2O connection proxy:</td>\n",
       "<td>None</td></tr>\n",
       "<tr><td>H2O internal security:</td>\n",
       "<td>False</td></tr>\n",
       "<tr><td>H2O API Extensions:</td>\n",
       "<td>Algos, AutoML, Core V3, Core V4</td></tr>\n",
       "<tr><td>Python version:</td>\n",
       "<td>3.7.1 final</td></tr></table></div>"
      ],
      "text/plain": [
       "--------------------------  -------------------------------\n",
       "H2O cluster uptime:         05 secs\n",
       "H2O cluster timezone:       Europe/London\n",
       "H2O data parsing timezone:  UTC\n",
       "H2O cluster version:        3.22.0.2\n",
       "H2O cluster version age:    20 days\n",
       "H2O cluster name:           H2O_from_python_AlbornoJ_sp300x\n",
       "H2O cluster total nodes:    1\n",
       "H2O cluster free memory:    3.531 Gb\n",
       "H2O cluster total cores:    4\n",
       "H2O cluster allowed cores:  4\n",
       "H2O cluster status:         accepting new members, healthy\n",
       "H2O connection url:         http://127.0.0.1:54321\n",
       "H2O connection proxy:\n",
       "H2O internal security:      False\n",
       "H2O API Extensions:         Algos, AutoML, Core V3, Core V4\n",
       "Python version:             3.7.1 final\n",
       "--------------------------  -------------------------------"
      ]
     },
     "metadata": {},
     "output_type": "display_data"
    }
   ],
   "source": [
    "h2o.init()"
   ]
  },
  {
   "cell_type": "markdown",
   "metadata": {},
   "source": [
    "# 1.- Read smoking dataset"
   ]
  },
  {
   "cell_type": "code",
   "execution_count": 3,
   "metadata": {},
   "outputs": [
    {
     "name": "stdout",
     "output_type": "stream",
     "text": [
      "Parse progress: |█████████████████████████████████████████████████████████| 100%\n"
     ]
    }
   ],
   "source": [
    "smoking = h2o.import_file('smoking.csv')"
   ]
  },
  {
   "cell_type": "code",
   "execution_count": 4,
   "metadata": {},
   "outputs": [],
   "source": [
    "smoking = smoking.drop('idx', axis=1)"
   ]
  },
  {
   "cell_type": "code",
   "execution_count": 5,
   "metadata": {},
   "outputs": [],
   "source": [
    "smoking['proportion_deaths'] = smoking['dead']*1000./smoking['pop']"
   ]
  },
  {
   "cell_type": "code",
   "execution_count": 6,
   "metadata": {},
   "outputs": [
    {
     "data": {
      "text/html": [
       "<table>\n",
       "<thead>\n",
       "<tr><th>age  </th><th>smoke        </th><th style=\"text-align: right;\">  pop</th><th style=\"text-align: right;\">  dead</th><th style=\"text-align: right;\">  proportion_deaths</th></tr>\n",
       "</thead>\n",
       "<tbody>\n",
       "<tr><td>40-44</td><td>no           </td><td style=\"text-align: right;\">  656</td><td style=\"text-align: right;\">    18</td><td style=\"text-align: right;\">            27.439 </td></tr>\n",
       "<tr><td>45-59</td><td>no           </td><td style=\"text-align: right;\">  359</td><td style=\"text-align: right;\">    22</td><td style=\"text-align: right;\">            61.2813</td></tr>\n",
       "<tr><td>50-54</td><td>no           </td><td style=\"text-align: right;\">  249</td><td style=\"text-align: right;\">    19</td><td style=\"text-align: right;\">            76.3052</td></tr>\n",
       "<tr><td>55-59</td><td>no           </td><td style=\"text-align: right;\">  632</td><td style=\"text-align: right;\">    55</td><td style=\"text-align: right;\">            87.0253</td></tr>\n",
       "<tr><td>60-64</td><td>no           </td><td style=\"text-align: right;\"> 1067</td><td style=\"text-align: right;\">   117</td><td style=\"text-align: right;\">           109.653 </td></tr>\n",
       "<tr><td>65-69</td><td>no           </td><td style=\"text-align: right;\">  897</td><td style=\"text-align: right;\">   170</td><td style=\"text-align: right;\">           189.521 </td></tr>\n",
       "<tr><td>70-74</td><td>no           </td><td style=\"text-align: right;\">  668</td><td style=\"text-align: right;\">   179</td><td style=\"text-align: right;\">           267.964 </td></tr>\n",
       "<tr><td>75-79</td><td>no           </td><td style=\"text-align: right;\">  361</td><td style=\"text-align: right;\">   120</td><td style=\"text-align: right;\">           332.41  </td></tr>\n",
       "<tr><td>80+  </td><td>no           </td><td style=\"text-align: right;\">  274</td><td style=\"text-align: right;\">   120</td><td style=\"text-align: right;\">           437.956 </td></tr>\n",
       "<tr><td>40-44</td><td>cigarPipeOnly</td><td style=\"text-align: right;\">  145</td><td style=\"text-align: right;\">     2</td><td style=\"text-align: right;\">            13.7931</td></tr>\n",
       "</tbody>\n",
       "</table>"
      ]
     },
     "metadata": {},
     "output_type": "display_data"
    },
    {
     "data": {
      "text/plain": []
     },
     "execution_count": 6,
     "metadata": {},
     "output_type": "execute_result"
    }
   ],
   "source": [
    "smoking.head()"
   ]
  },
  {
   "cell_type": "code",
   "execution_count": 7,
   "metadata": {},
   "outputs": [
    {
     "data": {
      "text/html": [
       "<table>\n",
       "<thead>\n",
       "<tr><th>       </th><th>age  </th><th>smoke        </th><th>pop               </th><th>dead              </th><th>proportion_deaths  </th></tr>\n",
       "</thead>\n",
       "<tbody>\n",
       "<tr><td>type   </td><td>enum </td><td>enum         </td><td>int               </td><td>int               </td><td>real               </td></tr>\n",
       "<tr><td>mins   </td><td>     </td><td>             </td><td>98.0              </td><td>2.0               </td><td>13.793103448275861 </td></tr>\n",
       "<tr><td>mean   </td><td>     </td><td>             </td><td>1558.9444444444443</td><td>253.61111111111114</td><td>204.74020216107442 </td></tr>\n",
       "<tr><td>maxs   </td><td>     </td><td>             </td><td>6052.0            </td><td>1001.0            </td><td>557.5221238938053  </td></tr>\n",
       "<tr><td>sigma  </td><td>     </td><td>             </td><td>1562.232174887577 </td><td>262.5974951221821 </td><td>161.25943876495234 </td></tr>\n",
       "<tr><td>zeros  </td><td>     </td><td>             </td><td>0                 </td><td>0                 </td><td>0                  </td></tr>\n",
       "<tr><td>missing</td><td>0    </td><td>0            </td><td>0                 </td><td>0                 </td><td>0                  </td></tr>\n",
       "<tr><td>0      </td><td>40-44</td><td>no           </td><td>656.0             </td><td>18.0              </td><td>27.4390243902439   </td></tr>\n",
       "<tr><td>1      </td><td>45-59</td><td>no           </td><td>359.0             </td><td>22.0              </td><td>61.28133704735376  </td></tr>\n",
       "<tr><td>2      </td><td>50-54</td><td>no           </td><td>249.0             </td><td>19.0              </td><td>76.30522088353413  </td></tr>\n",
       "<tr><td>3      </td><td>55-59</td><td>no           </td><td>632.0             </td><td>55.0              </td><td>87.0253164556962   </td></tr>\n",
       "<tr><td>4      </td><td>60-64</td><td>no           </td><td>1067.0            </td><td>117.0             </td><td>109.65323336457357 </td></tr>\n",
       "<tr><td>5      </td><td>65-69</td><td>no           </td><td>897.0             </td><td>170.0             </td><td>189.520624303233   </td></tr>\n",
       "<tr><td>6      </td><td>70-74</td><td>no           </td><td>668.0             </td><td>179.0             </td><td>267.96407185628743 </td></tr>\n",
       "<tr><td>7      </td><td>75-79</td><td>no           </td><td>361.0             </td><td>120.0             </td><td>332.409972299169   </td></tr>\n",
       "<tr><td>8      </td><td>80+  </td><td>no           </td><td>274.0             </td><td>120.0             </td><td>437.95620437956205 </td></tr>\n",
       "<tr><td>9      </td><td>40-44</td><td>cigarPipeOnly</td><td>145.0             </td><td>2.0               </td><td>13.793103448275861 </td></tr>\n",
       "</tbody>\n",
       "</table>"
      ]
     },
     "metadata": {},
     "output_type": "display_data"
    }
   ],
   "source": [
    "smoking.summary()"
   ]
  },
  {
   "cell_type": "markdown",
   "metadata": {},
   "source": [
    "# 2.- Features and target columns"
   ]
  },
  {
   "cell_type": "code",
   "execution_count": 8,
   "metadata": {},
   "outputs": [],
   "source": [
    "x = ['age', 'smoke']"
   ]
  },
  {
   "cell_type": "code",
   "execution_count": 9,
   "metadata": {},
   "outputs": [],
   "source": [
    "y = 'proportion_deaths'"
   ]
  },
  {
   "cell_type": "markdown",
   "metadata": {},
   "source": [
    "# 3.- Model build: age and smoking"
   ]
  },
  {
   "cell_type": "code",
   "execution_count": 10,
   "metadata": {},
   "outputs": [],
   "source": [
    "from h2o.estimators.glm import H2OGeneralizedLinearEstimator"
   ]
  },
  {
   "cell_type": "code",
   "execution_count": 11,
   "metadata": {},
   "outputs": [],
   "source": [
    "model =  H2OGeneralizedLinearEstimator(family='poisson', model_id='smokin_p')"
   ]
  },
  {
   "cell_type": "code",
   "execution_count": 12,
   "metadata": {},
   "outputs": [
    {
     "name": "stdout",
     "output_type": "stream",
     "text": [
      "glm Model Build progress: |███████████████████████████████████████████████| 100%\n"
     ]
    }
   ],
   "source": [
    "model.train(x, y, smoking)"
   ]
  },
  {
   "cell_type": "code",
   "execution_count": 13,
   "metadata": {},
   "outputs": [
    {
     "name": "stdout",
     "output_type": "stream",
     "text": [
      "\n",
      "ModelMetricsRegressionGLM: glm\n",
      "** Reported on train data. **\n",
      "\n",
      "MSE: 2316.4596014435115\n",
      "RMSE: 48.12961252122763\n",
      "MAE: 41.99060354583532\n",
      "RMSLE: 0.5117121251988099\n",
      "R^2: 0.9083760725920239\n",
      "Mean Residual Deviance: 16.42413160563875\n",
      "Null degrees of freedom: 35\n",
      "Residual degrees of freedom: 24\n",
      "Null deviance: 4440.504087789642\n",
      "Residual deviance: 591.268737802995\n",
      "AIC: 866.00934169979\n"
     ]
    },
    {
     "data": {
      "text/plain": []
     },
     "execution_count": 13,
     "metadata": {},
     "output_type": "execute_result"
    }
   ],
   "source": [
    "model.model_performance()"
   ]
  },
  {
   "cell_type": "markdown",
   "metadata": {},
   "source": [
    "## 3.1 - Model coefficients"
   ]
  },
  {
   "cell_type": "code",
   "execution_count": 14,
   "metadata": {},
   "outputs": [
    {
     "data": {
      "text/plain": [
       "{'Intercept': 5.1081179755386925,\n",
       " 'age.40-44': -0.7437710604359609,\n",
       " 'age.45-59': -0.5184194612646564,\n",
       " 'age.50-54': -0.38145083908401034,\n",
       " 'age.55-59': -0.10869163446220398,\n",
       " 'age.60-64': 0.0,\n",
       " 'age.65-69': 0.12047755386645775,\n",
       " 'age.70-74': 0.41754868888224195,\n",
       " 'age.75-79': 0.7134460662140327,\n",
       " 'age.80+': 0.9746132421022864,\n",
       " 'smoke.cigarPipeOnly': -0.054622959488238365,\n",
       " 'smoke.cigarretteOnly': 0.154081554968311,\n",
       " 'smoke.cigarrettePlus': 0.0,\n",
       " 'smoke.no': -0.05683520013173293}"
      ]
     },
     "execution_count": 14,
     "metadata": {},
     "output_type": "execute_result"
    }
   ],
   "source": [
    "model.coef()"
   ]
  },
  {
   "cell_type": "markdown",
   "metadata": {},
   "source": [
    "# 4.- Model build: smoking only"
   ]
  },
  {
   "cell_type": "code",
   "execution_count": 15,
   "metadata": {},
   "outputs": [
    {
     "name": "stdout",
     "output_type": "stream",
     "text": [
      "glm Model Build progress: |███████████████████████████████████████████████| 100%\n"
     ]
    }
   ],
   "source": [
    "model.train('smoke', y, smoking)"
   ]
  },
  {
   "cell_type": "code",
   "execution_count": 16,
   "metadata": {},
   "outputs": [
    {
     "name": "stdout",
     "output_type": "stream",
     "text": [
      "\n",
      "ModelMetricsRegressionGLM: glm\n",
      "** Reported on train data. **\n",
      "\n",
      "MSE: 24365.981442552653\n",
      "RMSE: 156.0960647888109\n",
      "MAE: 132.7771335966116\n",
      "RMSLE: 1.006390105569462\n",
      "R^2: 0.03624180904111585\n",
      "Mean Residual Deviance: 118.95718508688621\n",
      "Null degrees of freedom: 35\n",
      "Residual degrees of freedom: 31\n",
      "Null deviance: 4440.504087789642\n",
      "Residual deviance: 4282.4586631279035\n",
      "AIC: 4543.199267024699\n"
     ]
    },
    {
     "data": {
      "text/plain": []
     },
     "execution_count": 16,
     "metadata": {},
     "output_type": "execute_result"
    }
   ],
   "source": [
    "model.model_performance()"
   ]
  },
  {
   "cell_type": "markdown",
   "metadata": {},
   "source": [
    "## 4.1 - Model coefficients"
   ]
  },
  {
   "cell_type": "code",
   "execution_count": 17,
   "metadata": {},
   "outputs": [
    {
     "data": {
      "text/plain": [
       "{'Intercept': 5.314006445846301,\n",
       " 'smoke.cigarPipeOnly': -0.10903405584308601,\n",
       " 'smoke.cigarretteOnly': 0.18855640401138096,\n",
       " 'smoke.cigarrettePlus': 0.0320220371575779,\n",
       " 'smoke.no': -0.11145324707073101}"
      ]
     },
     "execution_count": 17,
     "metadata": {},
     "output_type": "execute_result"
    }
   ],
   "source": [
    "model.coef()"
   ]
  }
 ],
 "metadata": {
  "kernelspec": {
   "display_name": "Python 3",
   "language": "python",
   "name": "python3"
  },
  "language_info": {
   "codemirror_mode": {
    "name": "ipython",
    "version": 3
   },
   "file_extension": ".py",
   "mimetype": "text/x-python",
   "name": "python",
   "nbconvert_exporter": "python",
   "pygments_lexer": "ipython3",
   "version": "3.7.1"
  }
 },
 "nbformat": 4,
 "nbformat_minor": 2
}
