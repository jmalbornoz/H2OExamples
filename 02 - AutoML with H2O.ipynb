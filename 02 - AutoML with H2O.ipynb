{
 "cells": [
  {
   "cell_type": "markdown",
   "metadata": {},
   "source": [
    "# AutoML in H2O\n",
    "## Jose M Albornoz\n",
    "### December 2018"
   ]
  },
  {
   "cell_type": "markdown",
   "metadata": {},
   "source": [
    "This notebook demonstrates H2O's AutoML"
   ]
  },
  {
   "cell_type": "code",
   "execution_count": 1,
   "metadata": {},
   "outputs": [],
   "source": [
    "import h2o"
   ]
  },
  {
   "cell_type": "code",
   "execution_count": 2,
   "metadata": {},
   "outputs": [
    {
     "name": "stdout",
     "output_type": "stream",
     "text": [
      "Checking whether there is an H2O instance running at http://localhost:54321..... not found.\n",
      "Attempting to start a local H2O server...\n",
      "; Java HotSpot(TM) 64-Bit Server VM (build 25.191-b12, mixed mode)\n",
      "  Starting server from c:\\users\\albornoj\\appdata\\local\\programs\\python\\python37\\lib\\site-packages\\h2o\\backend\\bin\\h2o.jar\n",
      "  Ice root: C:\\Users\\AlbornoJ\\AppData\\Local\\Temp\\tmpwz_mrshm\n",
      "  JVM stdout: C:\\Users\\AlbornoJ\\AppData\\Local\\Temp\\tmpwz_mrshm\\h2o_AlbornoJ_started_from_python.out\n",
      "  JVM stderr: C:\\Users\\AlbornoJ\\AppData\\Local\\Temp\\tmpwz_mrshm\\h2o_AlbornoJ_started_from_python.err\n",
      "  Server is running at http://127.0.0.1:54321\n",
      "Connecting to H2O server at http://127.0.0.1:54321... successful.\n"
     ]
    },
    {
     "data": {
      "text/html": [
       "<div style=\"overflow:auto\"><table style=\"width:50%\"><tr><td>H2O cluster uptime:</td>\n",
       "<td>06 secs</td></tr>\n",
       "<tr><td>H2O cluster timezone:</td>\n",
       "<td>Europe/London</td></tr>\n",
       "<tr><td>H2O data parsing timezone:</td>\n",
       "<td>UTC</td></tr>\n",
       "<tr><td>H2O cluster version:</td>\n",
       "<td>3.22.0.2</td></tr>\n",
       "<tr><td>H2O cluster version age:</td>\n",
       "<td>11 days </td></tr>\n",
       "<tr><td>H2O cluster name:</td>\n",
       "<td>H2O_from_python_AlbornoJ_3cwx9q</td></tr>\n",
       "<tr><td>H2O cluster total nodes:</td>\n",
       "<td>1</td></tr>\n",
       "<tr><td>H2O cluster free memory:</td>\n",
       "<td>3.531 Gb</td></tr>\n",
       "<tr><td>H2O cluster total cores:</td>\n",
       "<td>4</td></tr>\n",
       "<tr><td>H2O cluster allowed cores:</td>\n",
       "<td>4</td></tr>\n",
       "<tr><td>H2O cluster status:</td>\n",
       "<td>accepting new members, healthy</td></tr>\n",
       "<tr><td>H2O connection url:</td>\n",
       "<td>http://127.0.0.1:54321</td></tr>\n",
       "<tr><td>H2O connection proxy:</td>\n",
       "<td>None</td></tr>\n",
       "<tr><td>H2O internal security:</td>\n",
       "<td>False</td></tr>\n",
       "<tr><td>H2O API Extensions:</td>\n",
       "<td>Algos, AutoML, Core V3, Core V4</td></tr>\n",
       "<tr><td>Python version:</td>\n",
       "<td>3.7.1 final</td></tr></table></div>"
      ],
      "text/plain": [
       "--------------------------  -------------------------------\n",
       "H2O cluster uptime:         06 secs\n",
       "H2O cluster timezone:       Europe/London\n",
       "H2O data parsing timezone:  UTC\n",
       "H2O cluster version:        3.22.0.2\n",
       "H2O cluster version age:    11 days\n",
       "H2O cluster name:           H2O_from_python_AlbornoJ_3cwx9q\n",
       "H2O cluster total nodes:    1\n",
       "H2O cluster free memory:    3.531 Gb\n",
       "H2O cluster total cores:    4\n",
       "H2O cluster allowed cores:  4\n",
       "H2O cluster status:         accepting new members, healthy\n",
       "H2O connection url:         http://127.0.0.1:54321\n",
       "H2O connection proxy:\n",
       "H2O internal security:      False\n",
       "H2O API Extensions:         Algos, AutoML, Core V3, Core V4\n",
       "Python version:             3.7.1 final\n",
       "--------------------------  -------------------------------"
      ]
     },
     "metadata": {},
     "output_type": "display_data"
    }
   ],
   "source": [
    "h2o.init()"
   ]
  },
  {
   "cell_type": "markdown",
   "metadata": {},
   "source": [
    "# 1.- Import Iris dataset"
   ]
  },
  {
   "cell_type": "code",
   "execution_count": 3,
   "metadata": {},
   "outputs": [],
   "source": [
    "url = \"http://h2o-public-test-data.s3.amazonaws.com/smalldata/iris/iris_wheader.csv\""
   ]
  },
  {
   "cell_type": "code",
   "execution_count": 4,
   "metadata": {},
   "outputs": [
    {
     "name": "stdout",
     "output_type": "stream",
     "text": [
      "Parse progress: |█████████████████████████████████████████████████████████| 100%\n"
     ]
    }
   ],
   "source": [
    "iris = h2o.import_file(url)"
   ]
  },
  {
   "cell_type": "code",
   "execution_count": 5,
   "metadata": {},
   "outputs": [
    {
     "data": {
      "text/plain": [
       "(150, 5)"
      ]
     },
     "execution_count": 5,
     "metadata": {},
     "output_type": "execute_result"
    }
   ],
   "source": [
    "iris.shape"
   ]
  },
  {
   "cell_type": "markdown",
   "metadata": {},
   "source": [
    "# 2.- Train-test split"
   ]
  },
  {
   "cell_type": "markdown",
   "metadata": {},
   "source": [
    "We will use a 80-20 train-test split"
   ]
  },
  {
   "cell_type": "code",
   "execution_count": 6,
   "metadata": {},
   "outputs": [],
   "source": [
    "train, test = iris.split_frame([0.8])"
   ]
  },
  {
   "cell_type": "code",
   "execution_count": 7,
   "metadata": {},
   "outputs": [
    {
     "data": {
      "text/plain": [
       "(120, 5)"
      ]
     },
     "execution_count": 7,
     "metadata": {},
     "output_type": "execute_result"
    }
   ],
   "source": [
    "train.shape"
   ]
  },
  {
   "cell_type": "code",
   "execution_count": 8,
   "metadata": {},
   "outputs": [
    {
     "data": {
      "text/plain": [
       "(30, 5)"
      ]
     },
     "execution_count": 8,
     "metadata": {},
     "output_type": "execute_result"
    }
   ],
   "source": [
    "test.shape"
   ]
  },
  {
   "cell_type": "code",
   "execution_count": 9,
   "metadata": {},
   "outputs": [
    {
     "data": {
      "text/html": [
       "<table>\n",
       "<thead>\n",
       "<tr><th>       </th><th>sepal_len         </th><th>sepal_wid         </th><th>petal_len        </th><th>petal_wid         </th><th>class      </th></tr>\n",
       "</thead>\n",
       "<tbody>\n",
       "<tr><td>type   </td><td>real              </td><td>real              </td><td>real             </td><td>real              </td><td>enum       </td></tr>\n",
       "<tr><td>mins   </td><td>4.3               </td><td>2.0               </td><td>1.0              </td><td>0.1               </td><td>           </td></tr>\n",
       "<tr><td>mean   </td><td>5.810833333333331 </td><td>3.079166666666667 </td><td>3.672500000000001</td><td>1.1599999999999995</td><td>           </td></tr>\n",
       "<tr><td>maxs   </td><td>7.9               </td><td>4.4               </td><td>6.9              </td><td>2.5               </td><td>           </td></tr>\n",
       "<tr><td>sigma  </td><td>0.8330157658210584</td><td>0.4590629537636503</td><td>1.775887161416522</td><td>0.7673374242724487</td><td>           </td></tr>\n",
       "<tr><td>zeros  </td><td>0                 </td><td>0                 </td><td>0                </td><td>0                 </td><td>           </td></tr>\n",
       "<tr><td>missing</td><td>0                 </td><td>0                 </td><td>0                </td><td>0                 </td><td>0          </td></tr>\n",
       "<tr><td>0      </td><td>5.1               </td><td>3.5               </td><td>1.4              </td><td>0.2               </td><td>Iris-setosa</td></tr>\n",
       "<tr><td>1      </td><td>4.9               </td><td>3.0               </td><td>1.4              </td><td>0.2               </td><td>Iris-setosa</td></tr>\n",
       "<tr><td>2      </td><td>4.7               </td><td>3.2               </td><td>1.3              </td><td>0.2               </td><td>Iris-setosa</td></tr>\n",
       "<tr><td>3      </td><td>4.6               </td><td>3.1               </td><td>1.5              </td><td>0.2               </td><td>Iris-setosa</td></tr>\n",
       "<tr><td>4      </td><td>5.0               </td><td>3.6               </td><td>1.4              </td><td>0.2               </td><td>Iris-setosa</td></tr>\n",
       "<tr><td>5      </td><td>5.4               </td><td>3.9               </td><td>1.7              </td><td>0.4               </td><td>Iris-setosa</td></tr>\n",
       "<tr><td>6      </td><td>5.0               </td><td>3.4               </td><td>1.5              </td><td>0.2               </td><td>Iris-setosa</td></tr>\n",
       "<tr><td>7      </td><td>4.4               </td><td>2.9               </td><td>1.4              </td><td>0.2               </td><td>Iris-setosa</td></tr>\n",
       "<tr><td>8      </td><td>5.4               </td><td>3.7               </td><td>1.5              </td><td>0.2               </td><td>Iris-setosa</td></tr>\n",
       "<tr><td>9      </td><td>4.8               </td><td>3.4               </td><td>1.6              </td><td>0.2               </td><td>Iris-setosa</td></tr>\n",
       "</tbody>\n",
       "</table>"
      ]
     },
     "metadata": {},
     "output_type": "display_data"
    }
   ],
   "source": [
    "train.summary()"
   ]
  },
  {
   "cell_type": "markdown",
   "metadata": {},
   "source": [
    "# 3.- Model build"
   ]
  },
  {
   "cell_type": "code",
   "execution_count": 10,
   "metadata": {},
   "outputs": [],
   "source": [
    "from h2o.automl import H2OAutoML"
   ]
  },
  {
   "cell_type": "code",
   "execution_count": 11,
   "metadata": {},
   "outputs": [],
   "source": [
    "mA = H2OAutoML(max_runtime_secs=30)"
   ]
  },
  {
   "cell_type": "code",
   "execution_count": 12,
   "metadata": {},
   "outputs": [
    {
     "name": "stdout",
     "output_type": "stream",
     "text": [
      "AutoML progress: |████████████████████████████████████████████████████████| 100%\n"
     ]
    }
   ],
   "source": [
    "mA.train([\"sepal_len\", \"sepal_wid\", \"petal_len\", \"petal_wid\"], \"class\", train)"
   ]
  },
  {
   "cell_type": "code",
   "execution_count": 13,
   "metadata": {},
   "outputs": [
    {
     "data": {
      "text/plain": [
       "<h2o.automl.autoh2o.H2OAutoML at 0x135a035f898>"
      ]
     },
     "execution_count": 13,
     "metadata": {},
     "output_type": "execute_result"
    }
   ],
   "source": [
    "mA"
   ]
  },
  {
   "cell_type": "code",
   "execution_count": 14,
   "metadata": {},
   "outputs": [
    {
     "data": {
      "text/html": [
       "<table>\n",
       "<thead>\n",
       "<tr><th>model_id                                  </th><th style=\"text-align: right;\">  mean_per_class_error</th><th style=\"text-align: right;\">  logloss</th><th style=\"text-align: right;\">    rmse</th><th style=\"text-align: right;\">      mse</th></tr>\n",
       "</thead>\n",
       "<tbody>\n",
       "<tr><td>GLM_grid_1_AutoML_20181203_161307_model_1 </td><td style=\"text-align: right;\">             0.010101 </td><td style=\"text-align: right;\">0.0353044</td><td style=\"text-align: right;\">0.102288</td><td style=\"text-align: right;\">0.0104629</td></tr>\n",
       "<tr><td>GBM_2_AutoML_20181203_161307              </td><td style=\"text-align: right;\">             0.0297089</td><td style=\"text-align: right;\">0.153552 </td><td style=\"text-align: right;\">0.187607</td><td style=\"text-align: right;\">0.0351964</td></tr>\n",
       "<tr><td>XRT_1_AutoML_20181203_161307              </td><td style=\"text-align: right;\">             0.0297089</td><td style=\"text-align: right;\">0.399339 </td><td style=\"text-align: right;\">0.174292</td><td style=\"text-align: right;\">0.0303779</td></tr>\n",
       "<tr><td>GBM_4_AutoML_20181203_161307              </td><td style=\"text-align: right;\">             0.0395128</td><td style=\"text-align: right;\">0.151427 </td><td style=\"text-align: right;\">0.192756</td><td style=\"text-align: right;\">0.0371547</td></tr>\n",
       "<tr><td>GBM_grid_1_AutoML_20181203_161307_model_16</td><td style=\"text-align: right;\">             0.0395128</td><td style=\"text-align: right;\">0.146122 </td><td style=\"text-align: right;\">0.190109</td><td style=\"text-align: right;\">0.0361413</td></tr>\n",
       "<tr><td>GBM_grid_1_AutoML_20181203_161307_model_6 </td><td style=\"text-align: right;\">             0.0395128</td><td style=\"text-align: right;\">0.748835 </td><td style=\"text-align: right;\">0.526133</td><td style=\"text-align: right;\">0.276816 </td></tr>\n",
       "<tr><td>GBM_1_AutoML_20181203_161307              </td><td style=\"text-align: right;\">             0.0398099</td><td style=\"text-align: right;\">0.151407 </td><td style=\"text-align: right;\">0.17895 </td><td style=\"text-align: right;\">0.0320232</td></tr>\n",
       "<tr><td>DRF_1_AutoML_20181203_161307              </td><td style=\"text-align: right;\">             0.0398099</td><td style=\"text-align: right;\">0.413853 </td><td style=\"text-align: right;\">0.184035</td><td style=\"text-align: right;\">0.0338689</td></tr>\n",
       "<tr><td>GBM_grid_1_AutoML_20181203_161307_model_1 </td><td style=\"text-align: right;\">             0.0398099</td><td style=\"text-align: right;\">0.237581 </td><td style=\"text-align: right;\">0.236491</td><td style=\"text-align: right;\">0.0559278</td></tr>\n",
       "<tr><td>GBM_grid_1_AutoML_20181203_161307_model_10</td><td style=\"text-align: right;\">             0.0493167</td><td style=\"text-align: right;\">0.199825 </td><td style=\"text-align: right;\">0.206755</td><td style=\"text-align: right;\">0.0427477</td></tr>\n",
       "</tbody>\n",
       "</table>"
      ]
     },
     "metadata": {},
     "output_type": "display_data"
    },
    {
     "data": {
      "text/plain": []
     },
     "execution_count": 14,
     "metadata": {},
     "output_type": "execute_result"
    }
   ],
   "source": [
    "mA.leaderboard"
   ]
  },
  {
   "cell_type": "markdown",
   "metadata": {},
   "source": [
    "# 4.- Predictions"
   ]
  },
  {
   "cell_type": "code",
   "execution_count": 15,
   "metadata": {},
   "outputs": [
    {
     "name": "stdout",
     "output_type": "stream",
     "text": [
      "glm prediction progress: |████████████████████████████████████████████████| 100%\n"
     ]
    }
   ],
   "source": [
    "p = mA.leader.predict(test)"
   ]
  },
  {
   "cell_type": "code",
   "execution_count": 16,
   "metadata": {},
   "outputs": [
    {
     "data": {
      "text/html": [
       "<table>\n",
       "<thead>\n",
       "<tr><th>predict        </th><th style=\"text-align: right;\">  Iris-setosa</th><th style=\"text-align: right;\">  Iris-versicolor</th><th style=\"text-align: right;\">  Iris-virginica</th></tr>\n",
       "</thead>\n",
       "<tbody>\n",
       "<tr><td>Iris-setosa    </td><td style=\"text-align: right;\">  0.999947   </td><td style=\"text-align: right;\">      5.34537e-05</td><td style=\"text-align: right;\">     3.35937e-25</td></tr>\n",
       "<tr><td>Iris-setosa    </td><td style=\"text-align: right;\">  0.998402   </td><td style=\"text-align: right;\">      0.00159789 </td><td style=\"text-align: right;\">     8.95346e-25</td></tr>\n",
       "<tr><td>Iris-setosa    </td><td style=\"text-align: right;\">  0.997209   </td><td style=\"text-align: right;\">      0.00279079 </td><td style=\"text-align: right;\">     1.33077e-24</td></tr>\n",
       "<tr><td>Iris-setosa    </td><td style=\"text-align: right;\">  0.9987     </td><td style=\"text-align: right;\">      0.00130021 </td><td style=\"text-align: right;\">     8.5287e-27 </td></tr>\n",
       "<tr><td>Iris-setosa    </td><td style=\"text-align: right;\">  0.740094   </td><td style=\"text-align: right;\">      0.259906   </td><td style=\"text-align: right;\">     1.01605e-19</td></tr>\n",
       "<tr><td>Iris-setosa    </td><td style=\"text-align: right;\">  0.995546   </td><td style=\"text-align: right;\">      0.00445361 </td><td style=\"text-align: right;\">     5.99414e-23</td></tr>\n",
       "<tr><td>Iris-setosa    </td><td style=\"text-align: right;\">  0.999361   </td><td style=\"text-align: right;\">      0.000639275</td><td style=\"text-align: right;\">     2.08929e-25</td></tr>\n",
       "<tr><td>Iris-versicolor</td><td style=\"text-align: right;\">  2.50434e-06</td><td style=\"text-align: right;\">      0.997531   </td><td style=\"text-align: right;\">     0.00246638 </td></tr>\n",
       "<tr><td>Iris-versicolor</td><td style=\"text-align: right;\">  0.00340973 </td><td style=\"text-align: right;\">      0.99659    </td><td style=\"text-align: right;\">     7.0764e-07 </td></tr>\n",
       "<tr><td>Iris-versicolor</td><td style=\"text-align: right;\">  0.000433883</td><td style=\"text-align: right;\">      0.999566   </td><td style=\"text-align: right;\">     4.1118e-07 </td></tr>\n",
       "</tbody>\n",
       "</table>"
      ]
     },
     "metadata": {},
     "output_type": "display_data"
    },
    {
     "data": {
      "text/plain": []
     },
     "execution_count": 16,
     "metadata": {},
     "output_type": "execute_result"
    }
   ],
   "source": [
    "p"
   ]
  },
  {
   "cell_type": "code",
   "execution_count": 17,
   "metadata": {},
   "outputs": [
    {
     "name": "stdout",
     "output_type": "stream",
     "text": [
      "\n",
      "ModelMetricsMultinomialGLM: glm\n",
      "** Reported on test data. **\n",
      "\n",
      "MSE: 0.04749201633318249\n",
      "RMSE: 0.21792663061953324\n"
     ]
    },
    {
     "data": {
      "text/plain": []
     },
     "execution_count": 17,
     "metadata": {},
     "output_type": "execute_result"
    }
   ],
   "source": [
    "mA.leader.model_performance(test)"
   ]
  },
  {
   "cell_type": "code",
   "execution_count": null,
   "metadata": {},
   "outputs": [],
   "source": []
  }
 ],
 "metadata": {
  "kernelspec": {
   "display_name": "Python 3",
   "language": "python",
   "name": "python3"
  },
  "language_info": {
   "codemirror_mode": {
    "name": "ipython",
    "version": 3
   },
   "file_extension": ".py",
   "mimetype": "text/x-python",
   "name": "python",
   "nbconvert_exporter": "python",
   "pygments_lexer": "ipython3",
   "version": "3.7.1"
  }
 },
 "nbformat": 4,
 "nbformat_minor": 2
}
