{
 "cells": [
  {
   "cell_type": "markdown",
   "metadata": {},
   "source": [
    "# Overfitting a Gradient Boosting Model in H2O\n",
    "## Jose M Albornoz\n",
    "### December 2018"
   ]
  },
  {
   "cell_type": "markdown",
   "metadata": {},
   "source": [
    "This notebook demonstrates an overfitting basic Gradient Boosting model in H2O"
   ]
  },
  {
   "cell_type": "code",
   "execution_count": 1,
   "metadata": {},
   "outputs": [],
   "source": [
    "import h2o\n",
    "import pandas as pd"
   ]
  },
  {
   "cell_type": "code",
   "execution_count": 2,
   "metadata": {},
   "outputs": [
    {
     "name": "stdout",
     "output_type": "stream",
     "text": [
      "Checking whether there is an H2O instance running at http://localhost:54321..... not found.\n",
      "Attempting to start a local H2O server...\n",
      "; Java HotSpot(TM) 64-Bit Server VM (build 25.191-b12, mixed mode)\n",
      "  Starting server from c:\\users\\albornoj\\appdata\\local\\programs\\python\\python37\\lib\\site-packages\\h2o\\backend\\bin\\h2o.jar\n",
      "  Ice root: C:\\Users\\AlbornoJ\\AppData\\Local\\Temp\\tmpbj85m9pn\n",
      "  JVM stdout: C:\\Users\\AlbornoJ\\AppData\\Local\\Temp\\tmpbj85m9pn\\h2o_AlbornoJ_started_from_python.out\n",
      "  JVM stderr: C:\\Users\\AlbornoJ\\AppData\\Local\\Temp\\tmpbj85m9pn\\h2o_AlbornoJ_started_from_python.err\n",
      "  Server is running at http://127.0.0.1:54321\n",
      "Connecting to H2O server at http://127.0.0.1:54321... successful.\n"
     ]
    },
    {
     "data": {
      "text/html": [
       "<div style=\"overflow:auto\"><table style=\"width:50%\"><tr><td>H2O cluster uptime:</td>\n",
       "<td>05 secs</td></tr>\n",
       "<tr><td>H2O cluster timezone:</td>\n",
       "<td>Europe/London</td></tr>\n",
       "<tr><td>H2O data parsing timezone:</td>\n",
       "<td>UTC</td></tr>\n",
       "<tr><td>H2O cluster version:</td>\n",
       "<td>3.22.0.2</td></tr>\n",
       "<tr><td>H2O cluster version age:</td>\n",
       "<td>20 days </td></tr>\n",
       "<tr><td>H2O cluster name:</td>\n",
       "<td>H2O_from_python_AlbornoJ_zecrls</td></tr>\n",
       "<tr><td>H2O cluster total nodes:</td>\n",
       "<td>1</td></tr>\n",
       "<tr><td>H2O cluster free memory:</td>\n",
       "<td>3.531 Gb</td></tr>\n",
       "<tr><td>H2O cluster total cores:</td>\n",
       "<td>4</td></tr>\n",
       "<tr><td>H2O cluster allowed cores:</td>\n",
       "<td>4</td></tr>\n",
       "<tr><td>H2O cluster status:</td>\n",
       "<td>accepting new members, healthy</td></tr>\n",
       "<tr><td>H2O connection url:</td>\n",
       "<td>http://127.0.0.1:54321</td></tr>\n",
       "<tr><td>H2O connection proxy:</td>\n",
       "<td>None</td></tr>\n",
       "<tr><td>H2O internal security:</td>\n",
       "<td>False</td></tr>\n",
       "<tr><td>H2O API Extensions:</td>\n",
       "<td>Algos, AutoML, Core V3, Core V4</td></tr>\n",
       "<tr><td>Python version:</td>\n",
       "<td>3.7.1 final</td></tr></table></div>"
      ],
      "text/plain": [
       "--------------------------  -------------------------------\n",
       "H2O cluster uptime:         05 secs\n",
       "H2O cluster timezone:       Europe/London\n",
       "H2O data parsing timezone:  UTC\n",
       "H2O cluster version:        3.22.0.2\n",
       "H2O cluster version age:    20 days\n",
       "H2O cluster name:           H2O_from_python_AlbornoJ_zecrls\n",
       "H2O cluster total nodes:    1\n",
       "H2O cluster free memory:    3.531 Gb\n",
       "H2O cluster total cores:    4\n",
       "H2O cluster allowed cores:  4\n",
       "H2O cluster status:         accepting new members, healthy\n",
       "H2O connection url:         http://127.0.0.1:54321\n",
       "H2O connection proxy:\n",
       "H2O internal security:      False\n",
       "H2O API Extensions:         Algos, AutoML, Core V3, Core V4\n",
       "Python version:             3.7.1 final\n",
       "--------------------------  -------------------------------"
      ]
     },
     "metadata": {},
     "output_type": "display_data"
    }
   ],
   "source": [
    "h2o.init()"
   ]
  },
  {
   "cell_type": "markdown",
   "metadata": {},
   "source": [
    "# 1.- Read articicial dataset"
   ]
  },
  {
   "cell_type": "code",
   "execution_count": 3,
   "metadata": {},
   "outputs": [],
   "source": [
    "df = pd.read_csv(\"artificial_data.csv\")"
   ]
  },
  {
   "cell_type": "code",
   "execution_count": 4,
   "metadata": {},
   "outputs": [
    {
     "data": {
      "text/html": [
       "<div>\n",
       "<style scoped>\n",
       "    .dataframe tbody tr th:only-of-type {\n",
       "        vertical-align: middle;\n",
       "    }\n",
       "\n",
       "    .dataframe tbody tr th {\n",
       "        vertical-align: top;\n",
       "    }\n",
       "\n",
       "    .dataframe thead th {\n",
       "        text-align: right;\n",
       "    }\n",
       "</style>\n",
       "<table border=\"1\" class=\"dataframe\">\n",
       "  <thead>\n",
       "    <tr style=\"text-align: right;\">\n",
       "      <th></th>\n",
       "      <th>id</th>\n",
       "      <th>bloodType</th>\n",
       "      <th>age</th>\n",
       "      <th>healthy_eating</th>\n",
       "      <th>active_lifestyle</th>\n",
       "      <th>salary</th>\n",
       "    </tr>\n",
       "  </thead>\n",
       "  <tbody>\n",
       "    <tr>\n",
       "      <th>0</th>\n",
       "      <td>0</td>\n",
       "      <td>A</td>\n",
       "      <td>33.741012</td>\n",
       "      <td>5.0</td>\n",
       "      <td>7.0</td>\n",
       "      <td>34099.525572</td>\n",
       "    </tr>\n",
       "    <tr>\n",
       "      <th>1</th>\n",
       "      <td>1</td>\n",
       "      <td>O</td>\n",
       "      <td>46.110061</td>\n",
       "      <td>4.0</td>\n",
       "      <td>6.0</td>\n",
       "      <td>43770.999909</td>\n",
       "    </tr>\n",
       "    <tr>\n",
       "      <th>2</th>\n",
       "      <td>2</td>\n",
       "      <td>B</td>\n",
       "      <td>37.318695</td>\n",
       "      <td>4.0</td>\n",
       "      <td>3.0</td>\n",
       "      <td>37496.334083</td>\n",
       "    </tr>\n",
       "    <tr>\n",
       "      <th>3</th>\n",
       "      <td>3</td>\n",
       "      <td>O</td>\n",
       "      <td>19.069138</td>\n",
       "      <td>9.0</td>\n",
       "      <td>3.0</td>\n",
       "      <td>28278.922197</td>\n",
       "    </tr>\n",
       "    <tr>\n",
       "      <th>4</th>\n",
       "      <td>4</td>\n",
       "      <td>O</td>\n",
       "      <td>47.405131</td>\n",
       "      <td>5.0</td>\n",
       "      <td>5.0</td>\n",
       "      <td>45005.237724</td>\n",
       "    </tr>\n",
       "  </tbody>\n",
       "</table>\n",
       "</div>"
      ],
      "text/plain": [
       "   id bloodType        age  healthy_eating  active_lifestyle        salary\n",
       "0   0         A  33.741012             5.0               7.0  34099.525572\n",
       "1   1         O  46.110061             4.0               6.0  43770.999909\n",
       "2   2         B  37.318695             4.0               3.0  37496.334083\n",
       "3   3         O  19.069138             9.0               3.0  28278.922197\n",
       "4   4         O  47.405131             5.0               5.0  45005.237724"
      ]
     },
     "execution_count": 4,
     "metadata": {},
     "output_type": "execute_result"
    }
   ],
   "source": [
    "df.head()"
   ]
  },
  {
   "cell_type": "code",
   "execution_count": 5,
   "metadata": {
    "scrolled": true
   },
   "outputs": [
    {
     "name": "stdout",
     "output_type": "stream",
     "text": [
      "Parse progress: |█████████████████████████████████████████████████████████| 100%\n"
     ]
    }
   ],
   "source": [
    "hf = h2o.H2OFrame(df)"
   ]
  },
  {
   "cell_type": "code",
   "execution_count": 6,
   "metadata": {},
   "outputs": [
    {
     "data": {
      "text/plain": [
       "(1000, 6)"
      ]
     },
     "execution_count": 6,
     "metadata": {},
     "output_type": "execute_result"
    }
   ],
   "source": [
    "hf.shape"
   ]
  },
  {
   "cell_type": "markdown",
   "metadata": {},
   "source": [
    "# 2.- Train-validation-test split"
   ]
  },
  {
   "cell_type": "markdown",
   "metadata": {},
   "source": [
    "We will use a 80-10-10 train-validation-test split"
   ]
  },
  {
   "cell_type": "code",
   "execution_count": 7,
   "metadata": {},
   "outputs": [],
   "source": [
    "train, validation, test = hf.split_frame([0.8, 0.1])"
   ]
  },
  {
   "cell_type": "code",
   "execution_count": 8,
   "metadata": {},
   "outputs": [
    {
     "data": {
      "text/plain": [
       "(789, 6)"
      ]
     },
     "execution_count": 8,
     "metadata": {},
     "output_type": "execute_result"
    }
   ],
   "source": [
    "train.shape"
   ]
  },
  {
   "cell_type": "code",
   "execution_count": 9,
   "metadata": {},
   "outputs": [
    {
     "data": {
      "text/plain": [
       "(101, 6)"
      ]
     },
     "execution_count": 9,
     "metadata": {},
     "output_type": "execute_result"
    }
   ],
   "source": [
    "validation.shape"
   ]
  },
  {
   "cell_type": "code",
   "execution_count": 10,
   "metadata": {},
   "outputs": [
    {
     "data": {
      "text/plain": [
       "(110, 6)"
      ]
     },
     "execution_count": 10,
     "metadata": {},
     "output_type": "execute_result"
    }
   ],
   "source": [
    "test.shape"
   ]
  },
  {
   "cell_type": "markdown",
   "metadata": {},
   "source": [
    "# 3.- Model build"
   ]
  },
  {
   "cell_type": "code",
   "execution_count": 11,
   "metadata": {},
   "outputs": [],
   "source": [
    "from h2o.estimators.gbm import H2OGradientBoostingEstimator"
   ]
  },
  {
   "cell_type": "code",
   "execution_count": 12,
   "metadata": {},
   "outputs": [],
   "source": [
    "y = \"salary\"\n",
    "ignoreFields = [y, 'id']\n",
    "x = [i for i in train.names if i not in ignoreFields]"
   ]
  },
  {
   "cell_type": "code",
   "execution_count": 13,
   "metadata": {},
   "outputs": [],
   "source": [
    "mGBM1 = H2OGradientBoostingEstimator(model_id='defaults')"
   ]
  },
  {
   "cell_type": "code",
   "execution_count": 14,
   "metadata": {},
   "outputs": [
    {
     "name": "stdout",
     "output_type": "stream",
     "text": [
      "gbm Model Build progress: |███████████████████████████████████████████████| 100%\n"
     ]
    }
   ],
   "source": [
    "mGBM1.train(x, y, train, validation_frame=validation)"
   ]
  },
  {
   "cell_type": "code",
   "execution_count": 15,
   "metadata": {},
   "outputs": [
    {
     "name": "stdout",
     "output_type": "stream",
     "text": [
      "Model Details\n",
      "=============\n",
      "H2OGradientBoostingEstimator :  Gradient Boosting Machine\n",
      "Model Key:  defaults\n",
      "\n",
      "\n",
      "ModelMetricsRegression: gbm\n",
      "** Reported on train data. **\n",
      "\n",
      "MSE: 1272749.3281765298\n",
      "RMSE: 1128.1619246263056\n",
      "MAE: 955.0245960076046\n",
      "RMSLE: 0.03129479823926259\n",
      "Mean Residual Deviance: 1272749.3281765298\n",
      "\n",
      "ModelMetricsRegression: gbm\n",
      "** Reported on validation data. **\n",
      "\n",
      "MSE: 2120155.8751807795\n",
      "RMSE: 1456.0755046290626\n",
      "MAE: 1219.2001869142664\n",
      "RMSLE: 0.04011191104233286\n",
      "Mean Residual Deviance: 2120155.8751807795\n",
      "Scoring History: \n"
     ]
    },
    {
     "data": {
      "text/html": [
       "<div style=\"overflow:auto\"><table style=\"width:50%\"><tr><td><b></b></td>\n",
       "<td><b>timestamp</b></td>\n",
       "<td><b>duration</b></td>\n",
       "<td><b>number_of_trees</b></td>\n",
       "<td><b>training_rmse</b></td>\n",
       "<td><b>training_mae</b></td>\n",
       "<td><b>training_deviance</b></td>\n",
       "<td><b>validation_rmse</b></td>\n",
       "<td><b>validation_mae</b></td>\n",
       "<td><b>validation_deviance</b></td></tr>\n",
       "<tr><td></td>\n",
       "<td>2018-12-12 10:03:30</td>\n",
       "<td> 0.085 sec</td>\n",
       "<td>0.0</td>\n",
       "<td>10437.5240351</td>\n",
       "<td>8955.0990287</td>\n",
       "<td>108941907.9836267</td>\n",
       "<td>9898.3298675</td>\n",
       "<td>8508.3946533</td>\n",
       "<td>97976934.1656044</td></tr>\n",
       "<tr><td></td>\n",
       "<td>2018-12-12 10:03:30</td>\n",
       "<td> 0.328 sec</td>\n",
       "<td>1.0</td>\n",
       "<td>9418.8607136</td>\n",
       "<td>8073.4340690</td>\n",
       "<td>88714937.1418343</td>\n",
       "<td>8946.9209296</td>\n",
       "<td>7681.7212389</td>\n",
       "<td>80047394.1210322</td></tr>\n",
       "<tr><td></td>\n",
       "<td>2018-12-12 10:03:30</td>\n",
       "<td> 0.374 sec</td>\n",
       "<td>2.0</td>\n",
       "<td>8503.6361645</td>\n",
       "<td>7278.8184856</td>\n",
       "<td>72311828.0182599</td>\n",
       "<td>8085.9175740</td>\n",
       "<td>6938.9273712</td>\n",
       "<td>65382063.0135877</td></tr>\n",
       "<tr><td></td>\n",
       "<td>2018-12-12 10:03:30</td>\n",
       "<td> 0.398 sec</td>\n",
       "<td>3.0</td>\n",
       "<td>7681.6624803</td>\n",
       "<td>6564.1255248</td>\n",
       "<td>59007938.4608682</td>\n",
       "<td>7312.1255647</td>\n",
       "<td>6267.2976739</td>\n",
       "<td>53467180.2741729</td></tr>\n",
       "<tr><td></td>\n",
       "<td>2018-12-12 10:03:30</td>\n",
       "<td> 0.436 sec</td>\n",
       "<td>4.0</td>\n",
       "<td>6944.0984743</td>\n",
       "<td>5922.4088344</td>\n",
       "<td>48220503.6211245</td>\n",
       "<td>6615.3033688</td>\n",
       "<td>5663.9587554</td>\n",
       "<td>43762238.6616235</td></tr>\n",
       "<tr><td>---</td>\n",
       "<td>---</td>\n",
       "<td>---</td>\n",
       "<td>---</td>\n",
       "<td>---</td>\n",
       "<td>---</td>\n",
       "<td>---</td>\n",
       "<td>---</td>\n",
       "<td>---</td>\n",
       "<td>---</td></tr>\n",
       "<tr><td></td>\n",
       "<td>2018-12-12 10:03:31</td>\n",
       "<td> 1.136 sec</td>\n",
       "<td>46.0</td>\n",
       "<td>1138.2649042</td>\n",
       "<td>964.2208739</td>\n",
       "<td>1295646.9920268</td>\n",
       "<td>1463.2778700</td>\n",
       "<td>1225.5912051</td>\n",
       "<td>2141182.1249574</td></tr>\n",
       "<tr><td></td>\n",
       "<td>2018-12-12 10:03:31</td>\n",
       "<td> 1.148 sec</td>\n",
       "<td>47.0</td>\n",
       "<td>1135.5981430</td>\n",
       "<td>961.8593973</td>\n",
       "<td>1289583.1422795</td>\n",
       "<td>1459.6923417</td>\n",
       "<td>1222.3018364</td>\n",
       "<td>2130701.7325190</td></tr>\n",
       "<tr><td></td>\n",
       "<td>2018-12-12 10:03:31</td>\n",
       "<td> 1.173 sec</td>\n",
       "<td>48.0</td>\n",
       "<td>1132.6861682</td>\n",
       "<td>959.3925435</td>\n",
       "<td>1282977.9556592</td>\n",
       "<td>1459.5809500</td>\n",
       "<td>1222.1310437</td>\n",
       "<td>2130376.5495094</td></tr>\n",
       "<tr><td></td>\n",
       "<td>2018-12-12 10:03:31</td>\n",
       "<td> 1.185 sec</td>\n",
       "<td>49.0</td>\n",
       "<td>1129.8509591</td>\n",
       "<td>956.9140625</td>\n",
       "<td>1276563.1897786</td>\n",
       "<td>1458.4996444</td>\n",
       "<td>1221.8332068</td>\n",
       "<td>2127221.2126862</td></tr>\n",
       "<tr><td></td>\n",
       "<td>2018-12-12 10:03:31</td>\n",
       "<td> 1.197 sec</td>\n",
       "<td>50.0</td>\n",
       "<td>1128.1619246</td>\n",
       "<td>955.0245960</td>\n",
       "<td>1272749.3281765</td>\n",
       "<td>1456.0755046</td>\n",
       "<td>1219.2001869</td>\n",
       "<td>2120155.8751808</td></tr></table></div>"
      ],
      "text/plain": [
       "     timestamp            duration    number_of_trees    training_rmse       training_mae        training_deviance    validation_rmse     validation_mae      validation_deviance\n",
       "---  -------------------  ----------  -----------------  ------------------  ------------------  -------------------  ------------------  ------------------  ---------------------\n",
       "     2018-12-12 10:03:30  0.085 sec   0.0                10437.52403511612   8955.099028695871   108941907.9836267    9898.32986748797    8508.394653296955   97976934.1656044\n",
       "     2018-12-12 10:03:30  0.328 sec   1.0                9418.860713580718   8073.434069035171   88714937.14183427    8946.920929628928   7681.721238943804   80047394.12103216\n",
       "     2018-12-12 10:03:30  0.374 sec   2.0                8503.636164503978   7278.8184856226235  72311828.01825991    8085.917574004057   6938.927371209405   65382063.01358766\n",
       "     2018-12-12 10:03:30  0.398 sec   3.0                7681.662480275233   6564.1255247940435  59007938.46086825    7312.125564715973   6267.297673872451   53467180.274172895\n",
       "     2018-12-12 10:03:30  0.436 sec   4.0                6944.09847432512    5922.408834363117   48220503.62112446    6615.303368827729   5663.958755422651   43762238.6616235\n",
       "---  ---                  ---         ---                ---                 ---                 ---                  ---                 ---                 ---\n",
       "     2018-12-12 10:03:31  1.136 sec   46.0               1138.2649041531542  964.2208739306084   1295646.9920267896   1463.2778700429415  1225.5912051012665  2141182.1249574074\n",
       "     2018-12-12 10:03:31  1.148 sec   47.0               1135.5981429535275  961.8593972789924   1289583.1422795004   1459.6923417347393  1222.3018364175177  2130701.732519047\n",
       "     2018-12-12 10:03:31  1.173 sec   48.0               1132.6861682121973  959.3925434687897   1282977.9556592305   1459.580949967961   1222.1310436566923  2130376.549509376\n",
       "     2018-12-12 10:03:31  1.185 sec   49.0               1129.8509590997378  956.9140625         1276563.1897785976   1458.4996443901452  1221.833206834834   2127221.21268618\n",
       "     2018-12-12 10:03:31  1.197 sec   50.0               1128.1619246263056  955.0245960076046   1272749.3281765298   1456.0755046290626  1219.2001869142664  2120155.8751807795"
      ]
     },
     "metadata": {},
     "output_type": "display_data"
    },
    {
     "name": "stdout",
     "output_type": "stream",
     "text": [
      "\n",
      "See the whole table with table.as_data_frame()\n",
      "Variable Importances: \n"
     ]
    },
    {
     "data": {
      "text/html": [
       "<div style=\"overflow:auto\"><table style=\"width:50%\"><tr><td><b>variable</b></td>\n",
       "<td><b>relative_importance</b></td>\n",
       "<td><b>scaled_importance</b></td>\n",
       "<td><b>percentage</b></td></tr>\n",
       "<tr><td>age</td>\n",
       "<td>440635424768.0000000</td>\n",
       "<td>1.0</td>\n",
       "<td>0.9855177</td></tr>\n",
       "<tr><td>healthy_eating</td>\n",
       "<td>4124273920.0000000</td>\n",
       "<td>0.0093598</td>\n",
       "<td>0.0092243</td></tr>\n",
       "<tr><td>active_lifestyle</td>\n",
       "<td>1978833920.0000000</td>\n",
       "<td>0.0044909</td>\n",
       "<td>0.0044258</td></tr>\n",
       "<tr><td>bloodType</td>\n",
       "<td>372084640.0000000</td>\n",
       "<td>0.0008444</td>\n",
       "<td>0.0008322</td></tr></table></div>"
      ],
      "text/plain": [
       "variable          relative_importance    scaled_importance    percentage\n",
       "----------------  ---------------------  -------------------  ------------\n",
       "age               4.40635e+11            1                    0.985518\n",
       "healthy_eating    4.12427e+09            0.00935983           0.00922428\n",
       "active_lifestyle  1.97883e+09            0.00449086           0.00442583\n",
       "bloodType         3.72085e+08            0.000844427          0.000832198"
      ]
     },
     "metadata": {},
     "output_type": "display_data"
    },
    {
     "data": {
      "text/plain": []
     },
     "execution_count": 15,
     "metadata": {},
     "output_type": "execute_result"
    }
   ],
   "source": [
    "mGBM1"
   ]
  },
  {
   "cell_type": "markdown",
   "metadata": {},
   "source": [
    "# 4.- Model performance"
   ]
  },
  {
   "cell_type": "code",
   "execution_count": 16,
   "metadata": {},
   "outputs": [
    {
     "data": {
      "text/plain": [
       "955.0245960076046"
      ]
     },
     "execution_count": 16,
     "metadata": {},
     "output_type": "execute_result"
    }
   ],
   "source": [
    "mGBM1.mae(train=True)"
   ]
  },
  {
   "cell_type": "code",
   "execution_count": 17,
   "metadata": {},
   "outputs": [
    {
     "data": {
      "text/plain": [
       "1219.2001869142664"
      ]
     },
     "execution_count": 17,
     "metadata": {},
     "output_type": "execute_result"
    }
   ],
   "source": [
    "mGBM1.mae(valid=True)"
   ]
  },
  {
   "cell_type": "code",
   "execution_count": 18,
   "metadata": {},
   "outputs": [],
   "source": [
    "perf = mGBM1.model_performance(test)"
   ]
  },
  {
   "cell_type": "code",
   "execution_count": 19,
   "metadata": {},
   "outputs": [
    {
     "data": {
      "text/plain": [
       "1374.9214349220588"
      ]
     },
     "execution_count": 19,
     "metadata": {},
     "output_type": "execute_result"
    }
   ],
   "source": [
    "perf.mae()"
   ]
  },
  {
   "cell_type": "markdown",
   "metadata": {},
   "source": [
    "It can be seen that the mean arithmetic error (MAE) is much higher in the validation and test sets than in the training set - a sign of overfitting. "
   ]
  },
  {
   "cell_type": "markdown",
   "metadata": {},
   "source": [
    "# 5.- An overfitting model"
   ]
  },
  {
   "cell_type": "code",
   "execution_count": 20,
   "metadata": {},
   "outputs": [],
   "source": [
    "mGBM2 = H2OGradientBoostingEstimator(model_id='overfit', ntrees=100, max_depth=10)"
   ]
  },
  {
   "cell_type": "code",
   "execution_count": 21,
   "metadata": {},
   "outputs": [
    {
     "name": "stdout",
     "output_type": "stream",
     "text": [
      "gbm Model Build progress: |███████████████████████████████████████████████| 100%\n"
     ]
    }
   ],
   "source": [
    "mGBM2.train(x, y, train, validation_frame=validation)"
   ]
  },
  {
   "cell_type": "code",
   "execution_count": 22,
   "metadata": {},
   "outputs": [
    {
     "name": "stdout",
     "output_type": "stream",
     "text": [
      "Train: 955 ----> 658\n",
      "Validation: 1219 ----> 1280\n",
      "Test: 1374 ----> 1321\n"
     ]
    }
   ],
   "source": [
    "print('Train: %d ----> %d' % (mGBM1.mae(train=True), mGBM2.mae(train=True)))\n",
    "print('Validation: %d ----> %d' % (mGBM1.mae(valid=True), mGBM2.mae(valid=True)))\n",
    "print('Test: %d ----> %d' % (perf.mae(), mGBM2.model_performance(test).mae()))"
   ]
  },
  {
   "cell_type": "markdown",
   "metadata": {},
   "source": [
    "Increasing the complexity of the model has only made overfitting worse"
   ]
  },
  {
   "cell_type": "code",
   "execution_count": null,
   "metadata": {},
   "outputs": [],
   "source": []
  }
 ],
 "metadata": {
  "kernelspec": {
   "display_name": "Python 3",
   "language": "python",
   "name": "python3"
  },
  "language_info": {
   "codemirror_mode": {
    "name": "ipython",
    "version": 3
   },
   "file_extension": ".py",
   "mimetype": "text/x-python",
   "name": "python",
   "nbconvert_exporter": "python",
   "pygments_lexer": "ipython3",
   "version": "3.7.1"
  }
 },
 "nbformat": 4,
 "nbformat_minor": 2
}
