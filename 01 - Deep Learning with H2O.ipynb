{
 "cells": [
  {
   "cell_type": "markdown",
   "metadata": {},
   "source": [
    "# A deep learning model in H2O\n",
    "## Jose M Albornoz\n",
    "### December 2018"
   ]
  },
  {
   "cell_type": "markdown",
   "metadata": {},
   "source": [
    "This notebook shows how easy it is to set up a basic deep learning model using H2O"
   ]
  },
  {
   "cell_type": "code",
   "execution_count": 2,
   "metadata": {},
   "outputs": [],
   "source": [
    "import h2o"
   ]
  },
  {
   "cell_type": "code",
   "execution_count": 3,
   "metadata": {},
   "outputs": [
    {
     "name": "stdout",
     "output_type": "stream",
     "text": [
      "Checking whether there is an H2O instance running at http://localhost:54321. connected.\n"
     ]
    },
    {
     "data": {
      "text/html": [
       "<div style=\"overflow:auto\"><table style=\"width:50%\"><tr><td>H2O cluster uptime:</td>\n",
       "<td>5 mins 19 secs</td></tr>\n",
       "<tr><td>H2O cluster timezone:</td>\n",
       "<td>Europe/London</td></tr>\n",
       "<tr><td>H2O data parsing timezone:</td>\n",
       "<td>UTC</td></tr>\n",
       "<tr><td>H2O cluster version:</td>\n",
       "<td>3.22.0.2</td></tr>\n",
       "<tr><td>H2O cluster version age:</td>\n",
       "<td>8 days </td></tr>\n",
       "<tr><td>H2O cluster name:</td>\n",
       "<td>H2O_from_python_AlbornoJ_wyhx4p</td></tr>\n",
       "<tr><td>H2O cluster total nodes:</td>\n",
       "<td>1</td></tr>\n",
       "<tr><td>H2O cluster free memory:</td>\n",
       "<td>3.521 Gb</td></tr>\n",
       "<tr><td>H2O cluster total cores:</td>\n",
       "<td>4</td></tr>\n",
       "<tr><td>H2O cluster allowed cores:</td>\n",
       "<td>4</td></tr>\n",
       "<tr><td>H2O cluster status:</td>\n",
       "<td>locked, healthy</td></tr>\n",
       "<tr><td>H2O connection url:</td>\n",
       "<td>http://localhost:54321</td></tr>\n",
       "<tr><td>H2O connection proxy:</td>\n",
       "<td>None</td></tr>\n",
       "<tr><td>H2O internal security:</td>\n",
       "<td>False</td></tr>\n",
       "<tr><td>H2O API Extensions:</td>\n",
       "<td>Algos, AutoML, Core V3, Core V4</td></tr>\n",
       "<tr><td>Python version:</td>\n",
       "<td>3.7.1 final</td></tr></table></div>"
      ],
      "text/plain": [
       "--------------------------  -------------------------------\n",
       "H2O cluster uptime:         5 mins 19 secs\n",
       "H2O cluster timezone:       Europe/London\n",
       "H2O data parsing timezone:  UTC\n",
       "H2O cluster version:        3.22.0.2\n",
       "H2O cluster version age:    8 days\n",
       "H2O cluster name:           H2O_from_python_AlbornoJ_wyhx4p\n",
       "H2O cluster total nodes:    1\n",
       "H2O cluster free memory:    3.521 Gb\n",
       "H2O cluster total cores:    4\n",
       "H2O cluster allowed cores:  4\n",
       "H2O cluster status:         locked, healthy\n",
       "H2O connection url:         http://localhost:54321\n",
       "H2O connection proxy:\n",
       "H2O internal security:      False\n",
       "H2O API Extensions:         Algos, AutoML, Core V3, Core V4\n",
       "Python version:             3.7.1 final\n",
       "--------------------------  -------------------------------"
      ]
     },
     "metadata": {},
     "output_type": "display_data"
    }
   ],
   "source": [
    "h2o.init()"
   ]
  },
  {
   "cell_type": "markdown",
   "metadata": {},
   "source": [
    "# 1.- Import Iris dataset"
   ]
  },
  {
   "cell_type": "code",
   "execution_count": 4,
   "metadata": {},
   "outputs": [],
   "source": [
    "url = \"http://h2o-public-test-data.s3.amazonaws.com/smalldata/iris/iris_wheader.csv\""
   ]
  },
  {
   "cell_type": "code",
   "execution_count": 6,
   "metadata": {},
   "outputs": [
    {
     "name": "stdout",
     "output_type": "stream",
     "text": [
      "Parse progress: |█████████████████████████████████████████████████████████| 100%\n"
     ]
    }
   ],
   "source": [
    "iris = h2o.import_file(url)"
   ]
  },
  {
   "cell_type": "code",
   "execution_count": 11,
   "metadata": {},
   "outputs": [
    {
     "data": {
      "text/plain": [
       "(150, 5)"
      ]
     },
     "execution_count": 11,
     "metadata": {},
     "output_type": "execute_result"
    }
   ],
   "source": [
    "iris.shape"
   ]
  },
  {
   "cell_type": "markdown",
   "metadata": {},
   "source": [
    "# 2.- Train-test split"
   ]
  },
  {
   "cell_type": "code",
   "execution_count": 7,
   "metadata": {},
   "outputs": [],
   "source": [
    "train, test = iris.split_frame([0.8])"
   ]
  },
  {
   "cell_type": "code",
   "execution_count": 9,
   "metadata": {},
   "outputs": [
    {
     "data": {
      "text/plain": [
       "(127, 5)"
      ]
     },
     "execution_count": 9,
     "metadata": {},
     "output_type": "execute_result"
    }
   ],
   "source": [
    "train.shape"
   ]
  },
  {
   "cell_type": "code",
   "execution_count": 10,
   "metadata": {},
   "outputs": [
    {
     "data": {
      "text/plain": [
       "(23, 5)"
      ]
     },
     "execution_count": 10,
     "metadata": {},
     "output_type": "execute_result"
    }
   ],
   "source": [
    "test.shape"
   ]
  },
  {
   "cell_type": "code",
   "execution_count": 12,
   "metadata": {},
   "outputs": [
    {
     "data": {
      "text/html": [
       "<table>\n",
       "<thead>\n",
       "<tr><th>       </th><th>sepal_len         </th><th>sepal_wid          </th><th>petal_len         </th><th>petal_wid         </th><th>class      </th></tr>\n",
       "</thead>\n",
       "<tbody>\n",
       "<tr><td>type   </td><td>real              </td><td>real               </td><td>real              </td><td>real              </td><td>enum       </td></tr>\n",
       "<tr><td>mins   </td><td>4.4               </td><td>2.0                </td><td>1.0               </td><td>0.1               </td><td>           </td></tr>\n",
       "<tr><td>mean   </td><td>5.83228346456693  </td><td>3.0645669291338584 </td><td>3.722047244094489 </td><td>1.1858267716535433</td><td>           </td></tr>\n",
       "<tr><td>maxs   </td><td>7.9               </td><td>4.4                </td><td>6.9               </td><td>2.5               </td><td>           </td></tr>\n",
       "<tr><td>sigma  </td><td>0.8037493380247374</td><td>0.44213184111685944</td><td>1.7593249691164594</td><td>0.7554799178414454</td><td>           </td></tr>\n",
       "<tr><td>zeros  </td><td>0                 </td><td>0                  </td><td>0                 </td><td>0                 </td><td>           </td></tr>\n",
       "<tr><td>missing</td><td>0                 </td><td>0                  </td><td>0                 </td><td>0                 </td><td>0          </td></tr>\n",
       "<tr><td>0      </td><td>5.1               </td><td>3.5                </td><td>1.4               </td><td>0.2               </td><td>Iris-setosa</td></tr>\n",
       "<tr><td>1      </td><td>4.9               </td><td>3.0                </td><td>1.4               </td><td>0.2               </td><td>Iris-setosa</td></tr>\n",
       "<tr><td>2      </td><td>4.6               </td><td>3.1                </td><td>1.5               </td><td>0.2               </td><td>Iris-setosa</td></tr>\n",
       "<tr><td>3      </td><td>5.0               </td><td>3.6                </td><td>1.4               </td><td>0.2               </td><td>Iris-setosa</td></tr>\n",
       "<tr><td>4      </td><td>5.4               </td><td>3.9                </td><td>1.7               </td><td>0.4               </td><td>Iris-setosa</td></tr>\n",
       "<tr><td>5      </td><td>5.0               </td><td>3.4                </td><td>1.5               </td><td>0.2               </td><td>Iris-setosa</td></tr>\n",
       "<tr><td>6      </td><td>4.4               </td><td>2.9                </td><td>1.4               </td><td>0.2               </td><td>Iris-setosa</td></tr>\n",
       "<tr><td>7      </td><td>4.9               </td><td>3.1                </td><td>1.5               </td><td>0.1               </td><td>Iris-setosa</td></tr>\n",
       "<tr><td>8      </td><td>5.4               </td><td>3.7                </td><td>1.5               </td><td>0.2               </td><td>Iris-setosa</td></tr>\n",
       "<tr><td>9      </td><td>4.8               </td><td>3.0                </td><td>1.4               </td><td>0.1               </td><td>Iris-setosa</td></tr>\n",
       "</tbody>\n",
       "</table>"
      ]
     },
     "metadata": {},
     "output_type": "display_data"
    }
   ],
   "source": [
    "train.summary()"
   ]
  },
  {
   "cell_type": "markdown",
   "metadata": {},
   "source": [
    "# 3.- Model build"
   ]
  },
  {
   "cell_type": "code",
   "execution_count": 13,
   "metadata": {},
   "outputs": [],
   "source": [
    "from h2o.estimators.deeplearning import H2ODeepLearningEstimator"
   ]
  },
  {
   "cell_type": "code",
   "execution_count": 14,
   "metadata": {},
   "outputs": [],
   "source": [
    "mDL =  H2ODeepLearningEstimator()"
   ]
  },
  {
   "cell_type": "code",
   "execution_count": 15,
   "metadata": {},
   "outputs": [
    {
     "name": "stdout",
     "output_type": "stream",
     "text": [
      "deeplearning Model Build progress: |██████████████████████████████████████| 100%\n"
     ]
    }
   ],
   "source": [
    "mDL.train([\"sepal_len\", \"sepal_wid\", \"petal_len\", \"petal_wid\"], \"class\", train)"
   ]
  },
  {
   "cell_type": "code",
   "execution_count": 16,
   "metadata": {},
   "outputs": [
    {
     "name": "stdout",
     "output_type": "stream",
     "text": [
      "Model Details\n",
      "=============\n",
      "H2ODeepLearningEstimator :  Deep Learning\n",
      "Model Key:  DeepLearning_model_python_1543619543337_1\n",
      "\n",
      "\n",
      "ModelMetricsMultinomial: deeplearning\n",
      "** Reported on train data. **\n",
      "\n",
      "MSE: 0.09028918594283485\n",
      "RMSE: 0.3004815900231408\n",
      "LogLoss: 0.30176638276527457\n",
      "Mean Per-Class Error: 0.10569105691056911\n",
      "Confusion Matrix: Row labels: Actual class; Column labels: Predicted class\n",
      "\n"
     ]
    },
    {
     "data": {
      "text/html": [
       "<div style=\"overflow:auto\"><table style=\"width:50%\"><tr><td><b>Iris-setosa</b></td>\n",
       "<td><b>Iris-versicolor</b></td>\n",
       "<td><b>Iris-virginica</b></td>\n",
       "<td><b>Error</b></td>\n",
       "<td><b>Rate</b></td></tr>\n",
       "<tr><td>43.0</td>\n",
       "<td>0.0</td>\n",
       "<td>0.0</td>\n",
       "<td>0.0</td>\n",
       "<td>0 / 43</td></tr>\n",
       "<tr><td>0.0</td>\n",
       "<td>43.0</td>\n",
       "<td>0.0</td>\n",
       "<td>0.0</td>\n",
       "<td>0 / 43</td></tr>\n",
       "<tr><td>0.0</td>\n",
       "<td>13.0</td>\n",
       "<td>28.0</td>\n",
       "<td>0.3170732</td>\n",
       "<td>13 / 41</td></tr>\n",
       "<tr><td>43.0</td>\n",
       "<td>56.0</td>\n",
       "<td>28.0</td>\n",
       "<td>0.1023622</td>\n",
       "<td>13 / 127</td></tr></table></div>"
      ],
      "text/plain": [
       "Iris-setosa    Iris-versicolor    Iris-virginica    Error     Rate\n",
       "-------------  -----------------  ----------------  --------  --------\n",
       "43             0                  0                 0         0 / 43\n",
       "0              43                 0                 0         0 / 43\n",
       "0              13                 28                0.317073  13 / 41\n",
       "43             56                 28                0.102362  13 / 127"
      ]
     },
     "metadata": {},
     "output_type": "display_data"
    },
    {
     "name": "stdout",
     "output_type": "stream",
     "text": [
      "Top-3 Hit Ratios: \n"
     ]
    },
    {
     "data": {
      "text/html": [
       "<div style=\"overflow:auto\"><table style=\"width:50%\"><tr><td><b>k</b></td>\n",
       "<td><b>hit_ratio</b></td></tr>\n",
       "<tr><td>1</td>\n",
       "<td>0.8976378</td></tr>\n",
       "<tr><td>2</td>\n",
       "<td>1.0</td></tr>\n",
       "<tr><td>3</td>\n",
       "<td>1.0</td></tr></table></div>"
      ],
      "text/plain": [
       "k    hit_ratio\n",
       "---  -----------\n",
       "1    0.897638\n",
       "2    1\n",
       "3    1"
      ]
     },
     "metadata": {},
     "output_type": "display_data"
    },
    {
     "name": "stdout",
     "output_type": "stream",
     "text": [
      "Scoring History: \n"
     ]
    },
    {
     "data": {
      "text/html": [
       "<div style=\"overflow:auto\"><table style=\"width:50%\"><tr><td><b></b></td>\n",
       "<td><b>timestamp</b></td>\n",
       "<td><b>duration</b></td>\n",
       "<td><b>training_speed</b></td>\n",
       "<td><b>epochs</b></td>\n",
       "<td><b>iterations</b></td>\n",
       "<td><b>samples</b></td>\n",
       "<td><b>training_rmse</b></td>\n",
       "<td><b>training_logloss</b></td>\n",
       "<td><b>training_r2</b></td>\n",
       "<td><b>training_classification_error</b></td></tr>\n",
       "<tr><td></td>\n",
       "<td>2018-11-30 23:43:06</td>\n",
       "<td> 0.000 sec</td>\n",
       "<td>None</td>\n",
       "<td>0.0</td>\n",
       "<td>0</td>\n",
       "<td>0.0</td>\n",
       "<td>nan</td>\n",
       "<td>nan</td>\n",
       "<td>nan</td>\n",
       "<td>nan</td></tr>\n",
       "<tr><td></td>\n",
       "<td>2018-11-30 23:43:06</td>\n",
       "<td> 0.705 sec</td>\n",
       "<td>557 obs/sec</td>\n",
       "<td>1.0</td>\n",
       "<td>1</td>\n",
       "<td>127.0</td>\n",
       "<td>0.4146531</td>\n",
       "<td>0.6272894</td>\n",
       "<td>0.7399498</td>\n",
       "<td>0.2283465</td></tr>\n",
       "<tr><td></td>\n",
       "<td>2018-11-30 23:43:07</td>\n",
       "<td> 1.210 sec</td>\n",
       "<td>1778 obs/sec</td>\n",
       "<td>10.0</td>\n",
       "<td>10</td>\n",
       "<td>1270.0</td>\n",
       "<td>0.3004816</td>\n",
       "<td>0.3017664</td>\n",
       "<td>0.8634401</td>\n",
       "<td>0.1023622</td></tr></table></div>"
      ],
      "text/plain": [
       "    timestamp            duration    training_speed    epochs    iterations    samples    training_rmse    training_logloss    training_r2    training_classification_error\n",
       "--  -------------------  ----------  ----------------  --------  ------------  ---------  ---------------  ------------------  -------------  -------------------------------\n",
       "    2018-11-30 23:43:06  0.000 sec                     0         0             0          nan              nan                 nan            nan\n",
       "    2018-11-30 23:43:06  0.705 sec   557 obs/sec       1         1             127        0.414653         0.627289            0.73995        0.228346\n",
       "    2018-11-30 23:43:07  1.210 sec   1778 obs/sec      10        10            1270       0.300482         0.301766            0.86344        0.102362"
      ]
     },
     "metadata": {},
     "output_type": "display_data"
    },
    {
     "name": "stdout",
     "output_type": "stream",
     "text": [
      "Variable Importances: \n"
     ]
    },
    {
     "data": {
      "text/html": [
       "<div style=\"overflow:auto\"><table style=\"width:50%\"><tr><td><b>variable</b></td>\n",
       "<td><b>relative_importance</b></td>\n",
       "<td><b>scaled_importance</b></td>\n",
       "<td><b>percentage</b></td></tr>\n",
       "<tr><td>petal_len</td>\n",
       "<td>1.0</td>\n",
       "<td>1.0</td>\n",
       "<td>0.2629721</td></tr>\n",
       "<tr><td>petal_wid</td>\n",
       "<td>0.9889091</td>\n",
       "<td>0.9889091</td>\n",
       "<td>0.2600555</td></tr>\n",
       "<tr><td>sepal_len</td>\n",
       "<td>0.9172842</td>\n",
       "<td>0.9172842</td>\n",
       "<td>0.2412201</td></tr>\n",
       "<tr><td>sepal_wid</td>\n",
       "<td>0.8964917</td>\n",
       "<td>0.8964917</td>\n",
       "<td>0.2357523</td></tr></table></div>"
      ],
      "text/plain": [
       "variable    relative_importance    scaled_importance    percentage\n",
       "----------  ---------------------  -------------------  ------------\n",
       "petal_len   1                      1                    0.262972\n",
       "petal_wid   0.988909               0.988909             0.260055\n",
       "sepal_len   0.917284               0.917284             0.24122\n",
       "sepal_wid   0.896492               0.896492             0.235752"
      ]
     },
     "metadata": {},
     "output_type": "display_data"
    },
    {
     "data": {
      "text/plain": []
     },
     "execution_count": 16,
     "metadata": {},
     "output_type": "execute_result"
    }
   ],
   "source": [
    "mDL"
   ]
  },
  {
   "cell_type": "markdown",
   "metadata": {},
   "source": [
    "# 4.- Predictions"
   ]
  },
  {
   "cell_type": "code",
   "execution_count": 17,
   "metadata": {},
   "outputs": [
    {
     "name": "stdout",
     "output_type": "stream",
     "text": [
      "deeplearning prediction progress: |███████████████████████████████████████| 100%\n"
     ]
    }
   ],
   "source": [
    "p = mDL.predict(test)"
   ]
  },
  {
   "cell_type": "code",
   "execution_count": 18,
   "metadata": {},
   "outputs": [
    {
     "data": {
      "text/html": [
       "<table>\n",
       "<thead>\n",
       "<tr><th>predict        </th><th style=\"text-align: right;\">  Iris-setosa</th><th style=\"text-align: right;\">  Iris-versicolor</th><th style=\"text-align: right;\">  Iris-virginica</th></tr>\n",
       "</thead>\n",
       "<tbody>\n",
       "<tr><td>Iris-setosa    </td><td style=\"text-align: right;\">  0.999998   </td><td style=\"text-align: right;\">      1.53469e-06</td><td style=\"text-align: right;\">     1.7945e-22 </td></tr>\n",
       "<tr><td>Iris-setosa    </td><td style=\"text-align: right;\">  0.999999   </td><td style=\"text-align: right;\">      5.33145e-07</td><td style=\"text-align: right;\">     1.53931e-22</td></tr>\n",
       "<tr><td>Iris-setosa    </td><td style=\"text-align: right;\">  0.999999   </td><td style=\"text-align: right;\">      1.23494e-06</td><td style=\"text-align: right;\">     1.82814e-22</td></tr>\n",
       "<tr><td>Iris-setosa    </td><td style=\"text-align: right;\">  0.999999   </td><td style=\"text-align: right;\">      5.34146e-07</td><td style=\"text-align: right;\">     5.95937e-23</td></tr>\n",
       "<tr><td>Iris-setosa    </td><td style=\"text-align: right;\">  0.999998   </td><td style=\"text-align: right;\">      2.49112e-06</td><td style=\"text-align: right;\">     8.12293e-22</td></tr>\n",
       "<tr><td>Iris-setosa    </td><td style=\"text-align: right;\">  0.999993   </td><td style=\"text-align: right;\">      7.03047e-06</td><td style=\"text-align: right;\">     5.7444e-22 </td></tr>\n",
       "<tr><td>Iris-setosa    </td><td style=\"text-align: right;\">  0.999999   </td><td style=\"text-align: right;\">      5.80783e-07</td><td style=\"text-align: right;\">     1.62081e-23</td></tr>\n",
       "<tr><td>Iris-versicolor</td><td style=\"text-align: right;\">  0.00186754 </td><td style=\"text-align: right;\">      0.998102   </td><td style=\"text-align: right;\">     3.06724e-05</td></tr>\n",
       "<tr><td>Iris-versicolor</td><td style=\"text-align: right;\">  0.00453148 </td><td style=\"text-align: right;\">      0.995272   </td><td style=\"text-align: right;\">     0.000196885</td></tr>\n",
       "<tr><td>Iris-versicolor</td><td style=\"text-align: right;\">  4.79993e-05</td><td style=\"text-align: right;\">      0.999938   </td><td style=\"text-align: right;\">     1.43178e-05</td></tr>\n",
       "</tbody>\n",
       "</table>"
      ]
     },
     "metadata": {},
     "output_type": "display_data"
    },
    {
     "data": {
      "text/plain": []
     },
     "execution_count": 18,
     "metadata": {},
     "output_type": "execute_result"
    }
   ],
   "source": [
    "p"
   ]
  },
  {
   "cell_type": "code",
   "execution_count": 19,
   "metadata": {},
   "outputs": [
    {
     "name": "stdout",
     "output_type": "stream",
     "text": [
      "\n",
      "ModelMetricsMultinomial: deeplearning\n",
      "** Reported on test data. **\n",
      "\n",
      "MSE: 0.058757262120544176\n",
      "RMSE: 0.24239897301874894\n",
      "LogLoss: 0.29964527894868137\n",
      "Mean Per-Class Error: 0.037037037037037035\n",
      "Confusion Matrix: Row labels: Actual class; Column labels: Predicted class\n",
      "\n"
     ]
    },
    {
     "data": {
      "text/html": [
       "<div style=\"overflow:auto\"><table style=\"width:50%\"><tr><td><b>Iris-setosa</b></td>\n",
       "<td><b>Iris-versicolor</b></td>\n",
       "<td><b>Iris-virginica</b></td>\n",
       "<td><b>Error</b></td>\n",
       "<td><b>Rate</b></td></tr>\n",
       "<tr><td>7.0</td>\n",
       "<td>0.0</td>\n",
       "<td>0.0</td>\n",
       "<td>0.0</td>\n",
       "<td>0 / 7</td></tr>\n",
       "<tr><td>0.0</td>\n",
       "<td>7.0</td>\n",
       "<td>0.0</td>\n",
       "<td>0.0</td>\n",
       "<td>0 / 7</td></tr>\n",
       "<tr><td>0.0</td>\n",
       "<td>1.0</td>\n",
       "<td>8.0</td>\n",
       "<td>0.1111111</td>\n",
       "<td>1 / 9</td></tr>\n",
       "<tr><td>7.0</td>\n",
       "<td>8.0</td>\n",
       "<td>8.0</td>\n",
       "<td>0.0434783</td>\n",
       "<td>1 / 23</td></tr></table></div>"
      ],
      "text/plain": [
       "Iris-setosa    Iris-versicolor    Iris-virginica    Error      Rate\n",
       "-------------  -----------------  ----------------  ---------  ------\n",
       "7              0                  0                 0          0 / 7\n",
       "0              7                  0                 0          0 / 7\n",
       "0              1                  8                 0.111111   1 / 9\n",
       "7              8                  8                 0.0434783  1 / 23"
      ]
     },
     "metadata": {},
     "output_type": "display_data"
    },
    {
     "name": "stdout",
     "output_type": "stream",
     "text": [
      "Top-3 Hit Ratios: \n"
     ]
    },
    {
     "data": {
      "text/html": [
       "<div style=\"overflow:auto\"><table style=\"width:50%\"><tr><td><b>k</b></td>\n",
       "<td><b>hit_ratio</b></td></tr>\n",
       "<tr><td>1</td>\n",
       "<td>0.9565217</td></tr>\n",
       "<tr><td>2</td>\n",
       "<td>1.0</td></tr>\n",
       "<tr><td>3</td>\n",
       "<td>1.0</td></tr></table></div>"
      ],
      "text/plain": [
       "k    hit_ratio\n",
       "---  -----------\n",
       "1    0.956522\n",
       "2    1\n",
       "3    1"
      ]
     },
     "metadata": {},
     "output_type": "display_data"
    },
    {
     "data": {
      "text/plain": []
     },
     "execution_count": 19,
     "metadata": {},
     "output_type": "execute_result"
    }
   ],
   "source": [
    "mDL.model_performance(test)"
   ]
  },
  {
   "cell_type": "code",
   "execution_count": null,
   "metadata": {},
   "outputs": [],
   "source": []
  }
 ],
 "metadata": {
  "kernelspec": {
   "display_name": "Python 3",
   "language": "python",
   "name": "python3"
  },
  "language_info": {
   "codemirror_mode": {
    "name": "ipython",
    "version": 3
   },
   "file_extension": ".py",
   "mimetype": "text/x-python",
   "name": "python",
   "nbconvert_exporter": "python",
   "pygments_lexer": "ipython3",
   "version": "3.7.1"
  }
 },
 "nbformat": 4,
 "nbformat_minor": 2
}
